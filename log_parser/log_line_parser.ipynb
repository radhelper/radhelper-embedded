{
 "cells": [
  {
   "cell_type": "code",
   "execution_count": 1,
   "metadata": {
    "ExecuteTime": {
     "end_time": "2023-12-09T11:45:53.639846436Z",
     "start_time": "2023-12-09T11:45:53.145335306Z"
    }
   },
   "outputs": [],
   "source": [
    "import os\n",
    "import glob\n",
    "import json\n",
    "import pandas as pd\n",
    "from payload_parser import decode_frame \n",
    "pd.set_option('display.max_rows', None)\n",
    "\n",
    "line_to_parse = \"aa013c000000004806c005b38bab004538f80066424602b6a8500197d9420068c21500bb22f7005c7a0c007bc607000000000000000000000000000000000069f555\"\n"
   ]
  },
  {
   "cell_type": "markdown",
   "metadata": {},
   "source": [
    "## Custom frame decoding\n",
    "\n",
    "Create the dictionary that holds the frame formatting for a given frame ID. This will be custom to your specific frame. Find the documentation for each field in payload_parser. \n",
    "\n",
    "Also define the keys for each element."
   ]
  },
  {
   "cell_type": "code",
   "execution_count": 2,
   "metadata": {
    "ExecuteTime": {
     "end_time": "2023-12-09T11:45:53.801612735Z",
     "start_time": "2023-12-09T11:45:53.758064832Z"
    }
   },
   "outputs": [],
   "source": [
    "\n",
    "frame_id_formatting = {\n",
    "    \"BBBBBBBBBBBBBBBBBBBBBBBBBBBBBBBB\": 0,  # test frame\n",
    "    \"IIIIIIIIIIIIIII\": 1,  # fini\n",
    "    \"IIIIII\": 16,  # exception\n",
    "}\n",
    "\n",
    "keys = ['timestamp', 'total_errors', 'mcycle', 'minstret', 'imem_se', 'imem_de', 'dmem_se', 'dmem_de', 'regfile_se', 'regfile_de', 'iv', 'jump', 'branch', 'dsp_t', 'trap', 'illegal']\n",
    "# keys = ['timestamp', 'cy_c', 'tm_c', 'ir_c', 'wait_ii', 'wait_if', 'wait_mc', 'load', 'store', 'wait_ls', 'branch', 'tbranch', 'imem_ecc', 'dmem_ecc', 'regfile', 'iv']\n"
   ]
  },
  {
   "cell_type": "markdown",
   "metadata": {},
   "source": [
    "Parsing the fields based on frame type and then parsing the data tuple into readable fields"
   ]
  },
  {
   "cell_type": "code",
   "execution_count": 6,
   "metadata": {
    "ExecuteTime": {
     "end_time": "2023-12-09T11:45:54.156702092Z",
     "start_time": "2023-12-09T11:45:54.067249653Z"
    }
   },
   "outputs": [
    {
     "name": "stdout",
     "output_type": "stream",
     "text": [
      "(0, 96470600, 11242419, 16267333, 38158950, 22063286, 4381079, 1426024, 16196283, 817756, 509563, 0, 0, 0, 0)\n",
      "0x0\n",
      "0x5c00648\n",
      "0xab8bb3\n",
      "0xf83845\n",
      "0x2464266\n",
      "0x150a8b6\n",
      "0x42d997\n",
      "0x15c268\n",
      "0xf722bb\n",
      "0xc7a5c\n",
      "0x7c67b\n",
      "0x0\n",
      "0x0\n",
      "0x0\n",
      "0x0\n"
     ]
    }
   ],
   "source": [
    "data_tup = decode_frame(bytes.fromhex(line_to_parse), frame_id_formatting)\n",
    "\n",
    "print(data_tup[1])\n",
    "for field in data_tup[1]:\n",
    "    print(hex(field))\n"
   ]
  }
 ],
 "metadata": {
  "kernelspec": {
   "display_name": "Python 3",
   "language": "python",
   "name": "python3"
  },
  "language_info": {
   "codemirror_mode": {
    "name": "ipython",
    "version": 3
   },
   "file_extension": ".py",
   "mimetype": "text/x-python",
   "name": "python",
   "nbconvert_exporter": "python",
   "pygments_lexer": "ipython3",
   "version": "3.9.5"
  }
 },
 "nbformat": 4,
 "nbformat_minor": 2
}
