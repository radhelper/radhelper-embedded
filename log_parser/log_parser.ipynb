{
 "cells": [
  {
   "cell_type": "code",
   "execution_count": 10,
   "metadata": {
    "ExecuteTime": {
     "end_time": "2023-12-09T11:45:53.639846436Z",
     "start_time": "2023-12-09T11:45:53.145335306Z"
    }
   },
   "outputs": [],
   "source": [
    "import os\n",
    "import glob\n",
    "import json\n",
    "import struct\n",
    "from datetime import datetime, timezone\n",
    "from sklearn.preprocessing import MinMaxScaler\n",
    "import pandas as pd\n",
    "pd.set_option('display.max_rows', None)\n",
    "\n",
    "directory_path_original = './logs/dut0_original/logs_client'\n",
    "directory_path_ecc_bypass = './logs/dut0_ecc_bypass/logs_client'\n",
    "directory_path_iv_tee = './logs/dut0_iv_tee/logs_client'\n",
    "file_pattern = 'Client_dut*'\n",
    "\n",
    "# Use glob to find all files matching the pattern\n",
    "file_paths_original = glob.glob(os.path.join(directory_path_original, file_pattern))\n",
    "file_paths_ecc_bypass = glob.glob(os.path.join(directory_path_ecc_bypass, file_pattern))\n",
    "file_paths_iv_tee = glob.glob(os.path.join(directory_path_iv_tee, file_pattern))"
   ]
  },
  {
   "cell_type": "markdown",
   "metadata": {},
   "source": [
    "## Create the frame_id_formatting\n",
    "\n",
    "Create the dictionary that holds the frame formatting for a given frame ID. This will be custom to your specific frame. Find the documentation for each field in payload_parser."
   ]
  },
  {
   "cell_type": "code",
   "execution_count": 11,
   "metadata": {
    "ExecuteTime": {
     "end_time": "2023-12-09T11:45:53.801612735Z",
     "start_time": "2023-12-09T11:45:53.758064832Z"
    }
   },
   "outputs": [],
   "source": [
    "\n",
    "frame_id_formatting = {\n",
    "    \"BBBBBBBBBBBBBBBBBBBBBBBBBBBBBBBB\": 0,  # test frame\n",
    "    \"IIIIIIIIIIIIIII\": 1,  # fini\n",
    "    \"IIIIII\": 16,  # exception\n",
    "}\n",
    "\n",
    "keys = ['timestamp', 'total_errors', 'mcycle', 'minstret', 'imem_se', 'imem_de', 'dmem_se', 'dmem_de', 'regfile_se', 'regfile_de', 'iv', 'jump', 'branch', 'dsp_t', 'trap', 'illegal']\n",
    "# keys = ['timestamp', 'cy_c', 'tm_c', 'ir_c', 'wait_ii', 'wait_if', 'wait_mc', 'load', 'store', 'wait_ls', 'branch', 'tbranch', 'imem_ecc', 'dmem_ecc', 'regfile', 'iv']\n"
   ]
  },
  {
   "cell_type": "markdown",
   "metadata": {},
   "source": [
    "Recursively checking all the log files and sorting on Unix timestamp"
   ]
  },
  {
   "cell_type": "code",
   "execution_count": 12,
   "metadata": {},
   "outputs": [],
   "source": [
    "def parse_files(file_paths):\n",
    "    frames = []\n",
    "    for file_path in file_paths:\n",
    "        with open(file_path, 'r') as file:\n",
    "            for json_line in file:\n",
    "                # Parse frame\n",
    "                try:\n",
    "                    frame = json.loads(json_line)\n",
    "                except Exception as error:\n",
    "                    print(f\"Failed decoding JSON for file {file_path}: {error}\")\n",
    "                frames.append(frame)\n",
    "    return frames"
   ]
  },
  {
   "cell_type": "markdown",
   "metadata": {},
   "source": [
    "Constructing frames"
   ]
  },
  {
   "cell_type": "code",
   "execution_count": 13,
   "metadata": {
    "ExecuteTime": {
     "end_time": "2023-12-09T11:45:53.727645612Z",
     "start_time": "2023-12-09T11:45:53.681955271Z"
    }
   },
   "outputs": [],
   "source": [
    "frames_original = sorted(parse_files(file_paths_original), key=lambda x: x[\"timestamp\"])\n",
    "frames_ecc_bypass = sorted(parse_files(file_paths_ecc_bypass), key=lambda x: x[\"timestamp\"])\n",
    "frames_iv_tee = sorted(parse_files(file_paths_iv_tee), key=lambda x: x[\"timestamp\"])\n",
    "df_original = pd.DataFrame(frames_original)\n",
    "df_ecc_bypass = pd.DataFrame(frames_ecc_bypass)\n",
    "df_iv_tee = pd.DataFrame(frames_iv_tee)"
   ]
  },
  {
   "cell_type": "markdown",
   "metadata": {},
   "source": [
    "Frame helper functions"
   ]
  },
  {
   "cell_type": "markdown",
   "metadata": {},
   "source": [
    "Converting Unix timestamp to UTC"
   ]
  },
  {
   "cell_type": "code",
   "execution_count": 14,
   "metadata": {
    "ExecuteTime": {
     "end_time": "2023-12-09T11:45:54.062398608Z",
     "start_time": "2023-12-09T11:45:53.801480586Z"
    }
   },
   "outputs": [],
   "source": [
    "# def convert_unix_to_utc(pd):\n",
    "#     crc_errors = 0\n",
    "#     frame_parsing_errors = 0\n",
    "#     for frame in frames:\n",
    "#         frame['timestamp'] = str(datetime.utcfromtimestamp(float(frame['timestamp'])).replace(tzinfo=timezone.utc).strftime('%Y-%m-%d %H:%M:%S.%f UTC'))\n",
    "#         if 'data' in frame:\n",
    "#             try:\n",
    "#                 decoded_frame = decode_frame(bytes.fromhex(frame['data']))\n",
    "#                 #CRC check failed\n",
    "#                 if decoded_frame == None:\n",
    "#                     converted_frames.append({'timestamp': frame['timestamp'], 'error': \"CRC check error\"})\n",
    "#                     crc_errors += 1\n",
    "#                 # Exception\n",
    "#                 elif len(decoded_frame) < 15:\n",
    "#                     converted_frames.append({'timestamp': frame['timestamp'], 'error': f\"Frame parsing error. Data field too small: {decode_frame}\"})\n",
    "#                 # Data correct\n",
    "#                 else:\n",
    "#                     frame['data'] = decoded_frame\n",
    "#                     converted_frames.append(frame)\n",
    "#             except Exception as error:\n",
    "#                 frame_parsing_errors += 1\n",
    "#                 converted_frames.append({'timestamp': frame['timestamp'], 'error': \"Frame parsing error (possibly due to comm failure)\"})\n",
    "#                 #print(f\"Parsing error! {error}\")\n",
    "#         elif 'event' in frame:\n",
    "#             converted_frames.append(frame)\n",
    "#     return converted_frames, crc_errors, frame_parsing_errors\n",
    "\n",
    "df_original['timestamp'] = pd.to_datetime(df_original['timestamp'], unit='s').dt.tz_localize('UTC')\n",
    "df_ecc_bypass['timestamp'] = pd.to_datetime(df_ecc_bypass['timestamp'], unit='s').dt.tz_localize('UTC')\n",
    "df_iv_tee['timestamp'] = pd.to_datetime(df_iv_tee['timestamp'], unit='s').dt.tz_localize('UTC')"
   ]
  },
  {
   "cell_type": "markdown",
   "metadata": {},
   "source": [
    "Filtering out duplicate entries"
   ]
  },
  {
   "cell_type": "code",
   "execution_count": 15,
   "metadata": {
    "ExecuteTime": {
     "end_time": "2023-12-09T11:45:54.068092465Z",
     "start_time": "2023-12-09T11:45:54.064329396Z"
    }
   },
   "outputs": [],
   "source": [
    "df_original = df_original.drop_duplicates()\n",
    "df_ecc_bypass = df_ecc_bypass.drop_duplicates()\n",
    "df_iv_tee = df_iv_tee.drop_duplicates()"
   ]
  },
  {
   "cell_type": "markdown",
   "metadata": {},
   "source": [
    "Parsing the fields based on frame type"
   ]
  },
  {
   "cell_type": "code",
   "execution_count": 16,
   "metadata": {
    "ExecuteTime": {
     "end_time": "2023-12-09T11:45:54.156702092Z",
     "start_time": "2023-12-09T11:45:54.067249653Z"
    }
   },
   "outputs": [
    {
     "name": "stdout",
     "output_type": "stream",
     "text": [
      "Parsing error! non-hexadecimal number found in fromhex() arg at position 0\n",
      "Parsing error! non-hexadecimal number found in fromhex() arg at position 0\n",
      "Parsing error! non-hexadecimal number found in fromhex() arg at position 0\n",
      "Parsing error! non-hexadecimal number found in fromhex() arg at position 0\n",
      "Parsing error! non-hexadecimal number found in fromhex() arg at position 0\n",
      "Parsing error! non-hexadecimal number found in fromhex() arg at position 0\n",
      "Parsing error! non-hexadecimal number found in fromhex() arg at position 0\n",
      "Parsing error! non-hexadecimal number found in fromhex() arg at position 0\n"
     ]
    }
   ],
   "source": [
    "from payload_parser import decode_frame \n",
    "\n",
    "def data_dict(data_hex):\n",
    "    try:\n",
    "        data_tup = decode_frame(bytes.fromhex(data_hex), frame_id_formatting)\n",
    "        return data_tup\n",
    "    except Exception as error:\n",
    "        print(f\"Parsing error! {error}\")\n",
    "        return data_hex \n",
    "    \n",
    "def parse_data(df):\n",
    "    df_copy = df.copy()\n",
    "\n",
    "    # Apply the function only to rows where 'data' is not empty\n",
    "    mask = df_copy['data'].notnull() & (df_copy['data'] != '')\n",
    "\n",
    "    df_copy.loc[mask, 'data'] = df_copy.loc[mask, 'data'].apply(data_dict)\n",
    "\n",
    "    return df_copy\n",
    "\n",
    "df_parsed = parse_data(df_original)"
   ]
  },
  {
   "cell_type": "markdown",
   "metadata": {},
   "source": [
    "Parsing the data tuple into readable fields"
   ]
  },
  {
   "cell_type": "code",
   "execution_count": 28,
   "metadata": {},
   "outputs": [],
   "source": [
    "data_frame = []\n",
    "\n",
    "for index, row in df_parsed.iterrows():\n",
    "    if 'data' in row and isinstance(row['data'], tuple):  # Fix: Check if row['data'] is a tuple\n",
    "        parsed_payload = (row['timestamp'],) + tuple(row['data'])\n",
    "        mapping = {num: key for num, key in zip(keys, parsed_payload)}\n",
    "        data_frame.append(mapping)\n",
    "\n",
    "df = pd.DataFrame(data_frame)"
   ]
  },
  {
   "cell_type": "markdown",
   "metadata": {},
   "source": [
    "# DSP timeouts"
   ]
  },
  {
   "cell_type": "code",
   "execution_count": 29,
   "metadata": {
    "ExecuteTime": {
     "end_time": "2023-12-09T11:45:54.204126229Z",
     "start_time": "2023-12-09T11:45:54.158361948Z"
    }
   },
   "outputs": [
    {
     "data": {
      "text/html": [
       "<div>\n",
       "<style scoped>\n",
       "    .dataframe tbody tr th:only-of-type {\n",
       "        vertical-align: middle;\n",
       "    }\n",
       "\n",
       "    .dataframe tbody tr th {\n",
       "        vertical-align: top;\n",
       "    }\n",
       "\n",
       "    .dataframe thead th {\n",
       "        text-align: right;\n",
       "    }\n",
       "</style>\n",
       "<table border=\"1\" class=\"dataframe\">\n",
       "  <thead>\n",
       "    <tr style=\"text-align: right;\">\n",
       "      <th></th>\n",
       "      <th>timestamp</th>\n",
       "      <th>total_errors</th>\n",
       "      <th>mcycle</th>\n",
       "      <th>minstret</th>\n",
       "      <th>imem_se</th>\n",
       "      <th>imem_de</th>\n",
       "      <th>dmem_se</th>\n",
       "      <th>dmem_de</th>\n",
       "      <th>regfile_se</th>\n",
       "      <th>regfile_de</th>\n",
       "      <th>iv</th>\n",
       "      <th>jump</th>\n",
       "      <th>branch</th>\n",
       "      <th>dsp_t</th>\n",
       "      <th>trap</th>\n",
       "      <th>illegal</th>\n",
       "    </tr>\n",
       "  </thead>\n",
       "  <tbody>\n",
       "    <tr>\n",
       "      <th>2376</th>\n",
       "      <td>2023-12-06 23:21:52.076274688+00:00</td>\n",
       "      <td>0</td>\n",
       "      <td>284115935</td>\n",
       "      <td>387857734</td>\n",
       "      <td>31016</td>\n",
       "      <td>0</td>\n",
       "      <td>0</td>\n",
       "      <td>0.0</td>\n",
       "      <td>0.0</td>\n",
       "      <td>0.0</td>\n",
       "      <td>0.0</td>\n",
       "      <td>1062528.0</td>\n",
       "      <td>2449585.0</td>\n",
       "      <td>1.0</td>\n",
       "      <td>3.0</td>\n",
       "      <td>0.0</td>\n",
       "    </tr>\n",
       "  </tbody>\n",
       "</table>\n",
       "</div>"
      ],
      "text/plain": [
       "                               timestamp  total_errors     mcycle   minstret  \\\n",
       "2376 2023-12-06 23:21:52.076274688+00:00             0  284115935  387857734   \n",
       "\n",
       "      imem_se  imem_de  dmem_se  dmem_de  regfile_se  regfile_de   iv  \\\n",
       "2376    31016        0        0      0.0         0.0         0.0  0.0   \n",
       "\n",
       "           jump     branch  dsp_t  trap  illegal  \n",
       "2376  1062528.0  2449585.0    1.0   3.0      0.0  "
      ]
     },
     "execution_count": 29,
     "metadata": {},
     "output_type": "execute_result"
    }
   ],
   "source": [
    "filtered = df[df['dsp_t'] > 0]\n",
    "filtered"
   ]
  },
  {
   "cell_type": "markdown",
   "metadata": {},
   "source": [
    "# IV detections"
   ]
  },
  {
   "cell_type": "code",
   "execution_count": 31,
   "metadata": {
    "ExecuteTime": {
     "end_time": "2023-12-09T11:45:55.172960841Z",
     "start_time": "2023-12-09T11:45:54.201394447Z"
    }
   },
   "outputs": [
    {
     "data": {
      "text/html": [
       "<div>\n",
       "<style scoped>\n",
       "    .dataframe tbody tr th:only-of-type {\n",
       "        vertical-align: middle;\n",
       "    }\n",
       "\n",
       "    .dataframe tbody tr th {\n",
       "        vertical-align: top;\n",
       "    }\n",
       "\n",
       "    .dataframe thead th {\n",
       "        text-align: right;\n",
       "    }\n",
       "</style>\n",
       "<table border=\"1\" class=\"dataframe\">\n",
       "  <thead>\n",
       "    <tr style=\"text-align: right;\">\n",
       "      <th></th>\n",
       "      <th>timestamp</th>\n",
       "      <th>total_errors</th>\n",
       "      <th>mcycle</th>\n",
       "      <th>minstret</th>\n",
       "      <th>imem_se</th>\n",
       "      <th>imem_de</th>\n",
       "      <th>dmem_se</th>\n",
       "      <th>dmem_de</th>\n",
       "      <th>regfile_se</th>\n",
       "      <th>regfile_de</th>\n",
       "      <th>iv</th>\n",
       "      <th>jump</th>\n",
       "      <th>branch</th>\n",
       "      <th>dsp_t</th>\n",
       "      <th>trap</th>\n",
       "      <th>illegal</th>\n",
       "    </tr>\n",
       "  </thead>\n",
       "  <tbody>\n",
       "  </tbody>\n",
       "</table>\n",
       "</div>"
      ],
      "text/plain": [
       "Empty DataFrame\n",
       "Columns: [timestamp, total_errors, mcycle, minstret, imem_se, imem_de, dmem_se, dmem_de, regfile_se, regfile_de, iv, jump, branch, dsp_t, trap, illegal]\n",
       "Index: []"
      ]
     },
     "execution_count": 31,
     "metadata": {},
     "output_type": "execute_result"
    }
   ],
   "source": [
    "filtered = df[df['iv'] > 0]\n",
    "filtered"
   ]
  },
  {
   "cell_type": "markdown",
   "metadata": {},
   "source": [
    "# IV FPR higher than 2%"
   ]
  },
  {
   "cell_type": "code",
   "execution_count": null,
   "metadata": {
    "ExecuteTime": {
     "start_time": "2023-12-09T11:45:55.256159424Z"
    }
   },
   "outputs": [],
   "source": [
    "# scaler = MinMaxScaler()\n",
    "# df['imem_se'] = scaler.fit_transform(df[['imem_se']])\n",
    "# df['iv'] = scaler.fit_transform(df[['iv']])\n",
    "# df_no_duplicates = df.drop_duplicates(subset='iv', keep='first')\n",
    "# fpr_violation_condition = df_no_duplicates['iv'] < (0.98*df_no_duplicates['imem_se'])\n",
    "# fpr_violation_condition"
   ]
  },
  {
   "cell_type": "markdown",
   "metadata": {},
   "source": [
    "# Double bit errors"
   ]
  },
  {
   "cell_type": "code",
   "execution_count": 32,
   "metadata": {
    "ExecuteTime": {
     "end_time": "2023-12-09T11:45:55.340063661Z",
     "start_time": "2023-12-09T11:45:55.256391994Z"
    }
   },
   "outputs": [
    {
     "data": {
      "text/html": [
       "<div>\n",
       "<style scoped>\n",
       "    .dataframe tbody tr th:only-of-type {\n",
       "        vertical-align: middle;\n",
       "    }\n",
       "\n",
       "    .dataframe tbody tr th {\n",
       "        vertical-align: top;\n",
       "    }\n",
       "\n",
       "    .dataframe thead th {\n",
       "        text-align: right;\n",
       "    }\n",
       "</style>\n",
       "<table border=\"1\" class=\"dataframe\">\n",
       "  <thead>\n",
       "    <tr style=\"text-align: right;\">\n",
       "      <th></th>\n",
       "      <th>timestamp</th>\n",
       "      <th>total_errors</th>\n",
       "      <th>mcycle</th>\n",
       "      <th>minstret</th>\n",
       "      <th>imem_se</th>\n",
       "      <th>imem_de</th>\n",
       "      <th>dmem_se</th>\n",
       "      <th>dmem_de</th>\n",
       "      <th>regfile_se</th>\n",
       "      <th>regfile_de</th>\n",
       "      <th>iv</th>\n",
       "      <th>jump</th>\n",
       "      <th>branch</th>\n",
       "      <th>dsp_t</th>\n",
       "      <th>trap</th>\n",
       "      <th>illegal</th>\n",
       "    </tr>\n",
       "  </thead>\n",
       "  <tbody>\n",
       "    <tr>\n",
       "      <th>0</th>\n",
       "      <td>2023-12-06 17:40:11.329293056+00:00</td>\n",
       "      <td>0</td>\n",
       "      <td>284115938</td>\n",
       "      <td>1782107734</td>\n",
       "      <td>0</td>\n",
       "      <td>0</td>\n",
       "      <td>0</td>\n",
       "      <td>0.0</td>\n",
       "      <td>0.0</td>\n",
       "      <td>0.0</td>\n",
       "      <td>0.0</td>\n",
       "      <td>1062528.0</td>\n",
       "      <td>2449585.0</td>\n",
       "      <td>0.0</td>\n",
       "      <td>3.0</td>\n",
       "      <td>0.0</td>\n",
       "    </tr>\n",
       "    <tr>\n",
       "      <th>6342</th>\n",
       "      <td>2023-12-07 05:39:14.818258432+00:00</td>\n",
       "      <td>6272</td>\n",
       "      <td>2</td>\n",
       "      <td>255</td>\n",
       "      <td>2002</td>\n",
       "      <td>4276371331</td>\n",
       "      <td>0</td>\n",
       "      <td>NaN</td>\n",
       "      <td>NaN</td>\n",
       "      <td>NaN</td>\n",
       "      <td>NaN</td>\n",
       "      <td>NaN</td>\n",
       "      <td>NaN</td>\n",
       "      <td>NaN</td>\n",
       "      <td>NaN</td>\n",
       "      <td>NaN</td>\n",
       "    </tr>\n",
       "  </tbody>\n",
       "</table>\n",
       "</div>"
      ],
      "text/plain": [
       "                               timestamp  total_errors     mcycle    minstret  \\\n",
       "0    2023-12-06 17:40:11.329293056+00:00             0  284115938  1782107734   \n",
       "6342 2023-12-07 05:39:14.818258432+00:00          6272          2         255   \n",
       "\n",
       "      imem_se     imem_de  dmem_se  dmem_de  regfile_se  regfile_de   iv  \\\n",
       "0           0           0        0      0.0         0.0         0.0  0.0   \n",
       "6342     2002  4276371331        0      NaN         NaN         NaN  NaN   \n",
       "\n",
       "           jump     branch  dsp_t  trap  illegal  \n",
       "0     1062528.0  2449585.0    0.0   3.0      0.0  \n",
       "6342        NaN        NaN    NaN   NaN      NaN  "
      ]
     },
     "execution_count": 32,
     "metadata": {},
     "output_type": "execute_result"
    }
   ],
   "source": [
    "df_no_duplicates = df.drop_duplicates(subset='imem_de', keep='first')\n",
    "df_no_duplicates"
   ]
  },
  {
   "cell_type": "code",
   "execution_count": null,
   "metadata": {
    "ExecuteTime": {
     "end_time": "2023-12-09T11:45:55.340616295Z",
     "start_time": "2023-12-09T11:45:55.256742326Z"
    }
   },
   "outputs": [],
   "source": [
    "fpr_violation_condition = df['iv'] > (0.98*df['imem_se'])\n",
    "# df[fpr_violation_condition]"
   ]
  },
  {
   "cell_type": "markdown",
   "metadata": {},
   "source": [
    "# Filtering based on SmartFusion2 reset. Excluding DMEM and Register file because of scrubbing and overwriting"
   ]
  },
  {
   "cell_type": "code",
   "execution_count": null,
   "metadata": {
    "ExecuteTime": {
     "end_time": "2023-12-09T11:45:55.438141676Z",
     "start_time": "2023-12-09T11:45:55.256931433Z"
    }
   },
   "outputs": [],
   "source": [
    "mask = (df['imem_se'] < df['imem_se'].shift()-10) | (df['imem_de'] < df['imem_de'].shift()-10)\n",
    "resets = df[mask | mask.shift(-1)]\n",
    "pd.concat([df.head(1), resets])"
   ]
  },
  {
   "cell_type": "markdown",
   "metadata": {},
   "source": [
    "# Multiple explanations for differences between IMEM and instruction validator detections\n",
    "## Significant less detections by IV compared to IMEM\n",
    "\n",
    "## Significant more detections by IV compared to IMEM"
   ]
  }
 ],
 "metadata": {
  "kernelspec": {
   "display_name": "Python 3",
   "language": "python",
   "name": "python3"
  },
  "language_info": {
   "codemirror_mode": {
    "name": "ipython",
    "version": 3
   },
   "file_extension": ".py",
   "mimetype": "text/x-python",
   "name": "python",
   "nbconvert_exporter": "python",
   "pygments_lexer": "ipython3",
   "version": "3.9.5"
  }
 },
 "nbformat": 4,
 "nbformat_minor": 2
}
