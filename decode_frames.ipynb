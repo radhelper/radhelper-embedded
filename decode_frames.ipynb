{
 "cells": [
  {
   "cell_type": "markdown",
   "metadata": {},
   "source": [
    "# Decode Frame\n",
    "\n",
    "Use this notebook to dynamically decode your frames. Just add a received frame into the prompt box bellow.\n",
    "\n",
    "Test example (might not work if test IDs have changed): aa010ccdab0000adde0000efbe0000092455"
   ]
  },
  {
   "cell_type": "code",
   "execution_count": 4,
   "metadata": {},
   "outputs": [
    {
     "data": {
      "application/vnd.jupyter.widget-view+json": {
       "model_id": "16b971ac20fa407aaebd9e6ab4cba2c8",
       "version_major": 2,
       "version_minor": 0
      },
      "text/plain": [
       "VBox(children=(Text(value='', description='Frame:', placeholder='Enter the frame string in hexadecimal format'…"
      ]
     },
     "metadata": {},
     "output_type": "display_data"
    }
   ],
   "source": [
    "from ipywidgets import Text, VBox, Button, Output\n",
    "from IPython.display import display\n",
    "\n",
    "# Create the input widget\n",
    "data_input = Text(\n",
    "    value='',\n",
    "    placeholder='Enter the frame string in hexadecimal format',\n",
    "    description='Frame:',\n",
    "    disabled=False\n",
    ")\n",
    "\n",
    "# Create a button to process the input\n",
    "process_button = Button(description=\"Decode Frame\")\n",
    "\n",
    "# Create an output widget to display results\n",
    "output = Output()\n",
    "\n",
    "# Display the widgets at the top of the notebook\n",
    "display(VBox([data_input, process_button, output]))\n"
   ]
  },
  {
   "cell_type": "code",
   "execution_count": 5,
   "metadata": {},
   "outputs": [],
   "source": [
    "from radcontrol.frame.frame_decoder import PacketFrame\n",
    "\n",
    "def process_message(message):\n",
    "    header = message[0:1]\n",
    "    frame_id = message[1:2]\n",
    "    payload_length = message[2]\n",
    "    payload = message[3 : 3 + payload_length]\n",
    "    crc_bytes = message[3 + payload_length : 3 + payload_length + 2]\n",
    "    tail = message[-1:]\n",
    "\n",
    "    packet = PacketFrame(header, frame_id, payload_length, payload, crc_bytes, tail)\n",
    "\n",
    "    return packet\n",
    "\n",
    "def display_packet_info(packet):\n",
    "    # Display header information\n",
    "    print(\"Packet Information:\")\n",
    "    print(f\"  Header: {packet.header.hex()}\")\n",
    "    print(f\"  Frame ID: {packet.frame_id.hex()}\")\n",
    "    print(f\"  Payload Length: {packet.payload_length}\")\n",
    "    print(f\"  Payload: {packet.payload.hex()}\")\n",
    "    print(f\"  CRC Bytes: {packet.crc_bytes.hex()}\")\n",
    "    print(f\"  Tail: {packet.tail.hex()}\")\n",
    "\n",
    "    # Check and display CRC status\n",
    "    crc_valid = packet.check_crc()\n",
    "    print(f\"\\nCRC Check: {'Valid' if crc_valid else 'Invalid'}\")\n",
    "\n",
    "    # Log message or decoded details\n",
    "    log_message = packet.get_log_message(\"decoded\")\n",
    "    print(f\"Payload: {log_message}\")\n",
    "\n",
    "# Test with your message\n",
    "# message = bytes.fromhex(\"aa010ccdab0000adde0000efbe0000092455\")\n",
    "\n",
    "# Display formatted output"
   ]
  },
  {
   "cell_type": "code",
   "execution_count": 6,
   "metadata": {},
   "outputs": [],
   "source": [
    "# Define the processing function\n",
    "def process_data(b):\n",
    "    with output:\n",
    "        output.clear_output()\n",
    "        data_string = data_input.value.strip()\n",
    "        try:\n",
    "            # Convert to bytes\n",
    "            message = bytes.fromhex(data_string)\n",
    "            # Process the message\n",
    "            packet = process_message(message)\n",
    "            # packet = process_message(message)\n",
    "            display_packet_info(packet)\n",
    "            # print(f\"Processed Packet: {packet}\")\n",
    "        except ValueError:\n",
    "            print(\"Invalid hexadecimal input.\")\n",
    "        except Exception as e:\n",
    "            print(f\"An error occurred: {e}\")\n",
    "\n",
    "# Link the button to the processing function\n",
    "process_button.on_click(process_data)"
   ]
  }
 ],
 "metadata": {
  "kernelspec": {
   "display_name": ".venv",
   "language": "python",
   "name": "python3"
  },
  "language_info": {
   "codemirror_mode": {
    "name": "ipython",
    "version": 3
   },
   "file_extension": ".py",
   "mimetype": "text/x-python",
   "name": "python",
   "nbconvert_exporter": "python",
   "pygments_lexer": "ipython3",
   "version": "3.9.5"
  }
 },
 "nbformat": 4,
 "nbformat_minor": 2
}
