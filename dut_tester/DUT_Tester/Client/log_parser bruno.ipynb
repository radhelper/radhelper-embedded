{
 "cells": [
  {
   "cell_type": "code",
   "execution_count": 1,
   "metadata": {
    "ExecuteTime": {
     "end_time": "2023-12-09T14:36:58.961334211Z",
     "start_time": "2023-12-09T14:36:58.473032667Z"
    }
   },
   "outputs": [],
   "source": [
    "import os\n",
    "import glob\n",
    "import json\n",
    "from datetime import datetime, timezone\n",
    "from sklearn.preprocessing import MinMaxScaler\n",
    "import pandas as pd\n",
    "pd.set_option('display.max_rows', None)\n",
    "\n",
    "directory_path = './logs/dut0/logs_client'\n",
    "file_pattern = 'Client_dut*'\n",
    "\n",
    "# Use glob to find all files matching the pattern\n",
    "file_paths = glob.glob(os.path.join(directory_path, file_pattern))"
   ]
  },
  {
   "cell_type": "code",
   "execution_count": 2,
   "metadata": {
    "ExecuteTime": {
     "end_time": "2023-12-09T14:36:59.002267745Z",
     "start_time": "2023-12-09T14:36:59.001015122Z"
    }
   },
   "outputs": [],
   "source": [
    "crcTable = [    \n",
    "    0x0000,\n",
    "    0x1021,\n",
    "    0x2042,\n",
    "    0x3063,\n",
    "    0x4084,\n",
    "    0x50A5,\n",
    "    0x60C6,\n",
    "    0x70E7,\n",
    "    0x8108,\n",
    "    0x9129,\n",
    "    0xA14A,\n",
    "    0xB16B,\n",
    "    0xC18C,\n",
    "    0xD1AD,\n",
    "    0xE1CE,\n",
    "    0xF1EF,\n",
    "    0x1231,\n",
    "    0x0210,\n",
    "    0x3273,\n",
    "    0x2252,\n",
    "    0x52B5,\n",
    "    0x4294,\n",
    "    0x72F7,\n",
    "    0x62D6,\n",
    "    0x9339,\n",
    "    0x8318,\n",
    "    0xB37B,\n",
    "    0xA35A,\n",
    "    0xD3BD,\n",
    "    0xC39C,\n",
    "    0xF3FF,\n",
    "    0xE3DE,\n",
    "    0x2462,\n",
    "    0x3443,\n",
    "    0x0420,\n",
    "    0x1401,\n",
    "    0x64E6,\n",
    "    0x74C7,\n",
    "    0x44A4,\n",
    "    0x5485,\n",
    "    0xA56A,\n",
    "    0xB54B,\n",
    "    0x8528,\n",
    "    0x9509,\n",
    "    0xE5EE,\n",
    "    0xF5CF,\n",
    "    0xC5AC,\n",
    "    0xD58D,\n",
    "    0x3653,\n",
    "    0x2672,\n",
    "    0x1611,\n",
    "    0x0630,\n",
    "    0x76D7,\n",
    "    0x66F6,\n",
    "    0x5695,\n",
    "    0x46B4,\n",
    "    0xB75B,\n",
    "    0xA77A,\n",
    "    0x9719,\n",
    "    0x8738,\n",
    "    0xF7DF,\n",
    "    0xE7FE,\n",
    "    0xD79D,\n",
    "    0xC7BC,\n",
    "    0x48C4,\n",
    "    0x58E5,\n",
    "    0x6886,\n",
    "    0x78A7,\n",
    "    0x0840,\n",
    "    0x1861,\n",
    "    0x2802,\n",
    "    0x3823,\n",
    "    0xC9CC,\n",
    "    0xD9ED,\n",
    "    0xE98E,\n",
    "    0xF9AF,\n",
    "    0x8948,\n",
    "    0x9969,\n",
    "    0xA90A,\n",
    "    0xB92B,\n",
    "    0x5AF5,\n",
    "    0x4AD4,\n",
    "    0x7AB7,\n",
    "    0x6A96,\n",
    "    0x1A71,\n",
    "    0x0A50,\n",
    "    0x3A33,\n",
    "    0x2A12,\n",
    "    0xDBFD,\n",
    "    0xCBDC,\n",
    "    0xFBBF,\n",
    "    0xEB9E,\n",
    "    0x9B79,\n",
    "    0x8B58,\n",
    "    0xBB3B,\n",
    "    0xAB1A,\n",
    "    0x6CA6,\n",
    "    0x7C87,\n",
    "    0x4CE4,\n",
    "    0x5CC5,\n",
    "    0x2C22,\n",
    "    0x3C03,\n",
    "    0x0C60,\n",
    "    0x1C41,\n",
    "    0xEDAE,\n",
    "    0xFD8F,\n",
    "    0xCDEC,\n",
    "    0xDDCD,\n",
    "    0xAD2A,\n",
    "    0xBD0B,\n",
    "    0x8D68,\n",
    "    0x9D49,\n",
    "    0x7E97,\n",
    "    0x6EB6,\n",
    "    0x5ED5,\n",
    "    0x4EF4,\n",
    "    0x3E13,\n",
    "    0x2E32,\n",
    "    0x1E51,\n",
    "    0x0E70,\n",
    "    0xFF9F,\n",
    "    0xEFBE,\n",
    "    0xDFDD,\n",
    "    0xCFFC,\n",
    "    0xBF1B,\n",
    "    0xAF3A,\n",
    "    0x9F59,\n",
    "    0x8F78,\n",
    "    0x9188,\n",
    "    0x81A9,\n",
    "    0xB1CA,\n",
    "    0xA1EB,\n",
    "    0xD10C,\n",
    "    0xC12D,\n",
    "    0xF14E,\n",
    "    0xE16F,\n",
    "    0x1080,\n",
    "    0x00A1,\n",
    "    0x30C2,\n",
    "    0x20E3,\n",
    "    0x5004,\n",
    "    0x4025,\n",
    "    0x7046,\n",
    "    0x6067,\n",
    "    0x83B9,\n",
    "    0x9398,\n",
    "    0xA3FB,\n",
    "    0xB3DA,\n",
    "    0xC33D,\n",
    "    0xD31C,\n",
    "    0xE37F,\n",
    "    0xF35E,\n",
    "    0x02B1,\n",
    "    0x1290,\n",
    "    0x22F3,\n",
    "    0x32D2,\n",
    "    0x4235,\n",
    "    0x5214,\n",
    "    0x6277,\n",
    "    0x7256,\n",
    "    0xB5EA,\n",
    "    0xA5CB,\n",
    "    0x95A8,\n",
    "    0x8589,\n",
    "    0xF56E,\n",
    "    0xE54F,\n",
    "    0xD52C,\n",
    "    0xC50D,\n",
    "    0x34E2,\n",
    "    0x24C3,\n",
    "    0x14A0,\n",
    "    0x0481,\n",
    "    0x7466,\n",
    "    0x6447,\n",
    "    0x5424,\n",
    "    0x4405,\n",
    "    0xA7DB,\n",
    "    0xB7FA,\n",
    "    0x8799,\n",
    "    0x97B8,\n",
    "    0xE75F,\n",
    "    0xF77E,\n",
    "    0xC71D,\n",
    "    0xD73C,\n",
    "    0x26D3,\n",
    "    0x36F2,\n",
    "    0x0691,\n",
    "    0x16B0,\n",
    "    0x6657,\n",
    "    0x7676,\n",
    "    0x4615,\n",
    "    0x5634,\n",
    "    0xD94C,\n",
    "    0xC96D,\n",
    "    0xF90E,\n",
    "    0xE92F,\n",
    "    0x99C8,\n",
    "    0x89E9,\n",
    "    0xB98A,\n",
    "    0xA9AB,\n",
    "    0x5844,\n",
    "    0x4865,\n",
    "    0x7806,\n",
    "    0x6827,\n",
    "    0x18C0,\n",
    "    0x08E1,\n",
    "    0x3882,\n",
    "    0x28A3,\n",
    "    0xCB7D,\n",
    "    0xDB5C,\n",
    "    0xEB3F,\n",
    "    0xFB1E,\n",
    "    0x8BF9,\n",
    "    0x9BD8,\n",
    "    0xABBB,\n",
    "    0xBB9A,\n",
    "    0x4A75,\n",
    "    0x5A54,\n",
    "    0x6A37,\n",
    "    0x7A16,\n",
    "    0x0AF1,\n",
    "    0x1AD0,\n",
    "    0x2AB3,\n",
    "    0x3A92,\n",
    "    0xFD2E,\n",
    "    0xED0F,\n",
    "    0xDD6C,\n",
    "    0xCD4D,\n",
    "    0xBDAA,\n",
    "    0xAD8B,\n",
    "    0x9DE8,\n",
    "    0x8DC9,\n",
    "    0x7C26,\n",
    "    0x6C07,\n",
    "    0x5C64,\n",
    "    0x4C45,\n",
    "    0x3CA2,\n",
    "    0x2C83,\n",
    "    0x1CE0,\n",
    "    0x0CC1,\n",
    "    0xEF1F,\n",
    "    0xFF3E,\n",
    "    0xCF5D,\n",
    "    0xDF7C,\n",
    "    0xAF9B,\n",
    "    0xBFBA,\n",
    "    0x8FD9,\n",
    "    0x9FF8,\n",
    "    0x6E17,\n",
    "    0x7E36,\n",
    "    0x4E55,\n",
    "    0x5E74,\n",
    "    0x2E93,\n",
    "    0x3EB2,\n",
    "    0x0ED1,\n",
    "    0x1EF0,\n",
    "]\n"
   ]
  },
  {
   "cell_type": "markdown",
   "metadata": {},
   "source": [
    "Recursively checking all the log files and sorting on Unix timestamp"
   ]
  },
  {
   "cell_type": "code",
   "execution_count": 3,
   "metadata": {
    "ExecuteTime": {
     "end_time": "2023-12-09T14:36:59.088333315Z",
     "start_time": "2023-12-09T14:36:59.001447745Z"
    }
   },
   "outputs": [],
   "source": [
    "frames = []\n",
    "frame_parsing_errors = 0\n",
    "crc_errors = 0\n",
    "filtered_frames = []\n",
    "for file_path in file_paths:\n",
    "    with open(file_path, 'r') as file:\n",
    "        for json_line in file:\n",
    "            # Parse frame\n",
    "            try:\n",
    "                frame = json.loads(json_line)\n",
    "            except Exception as error:\n",
    "                print(f\"Failed decoding JSON for file {file_path}: {error}\")\n",
    "            frames.append(frame)\n",
    "\n",
    "# Sort frames based on timestamp\n",
    "sorted_frames = sorted(frames, key=lambda x: x[\"timestamp\"])\n",
    "parsed_frames = []"
   ]
  },
  {
   "cell_type": "markdown",
   "metadata": {},
   "source": [
    "Changing Unix to Utc"
   ]
  },
  {
   "cell_type": "code",
   "execution_count": 4,
   "metadata": {
    "ExecuteTime": {
     "end_time": "2023-12-09T14:36:59.096011413Z",
     "start_time": "2023-12-09T14:36:59.090922501Z"
    }
   },
   "outputs": [],
   "source": [
    "def decode_frame(frame_bytes):\n",
    "    # Desconstructing the frame\n",
    "    header = frame_bytes[0]\n",
    "    frame_id = frame_bytes[1]\n",
    "    payload_length = frame_bytes[2]\n",
    "    payload = frame_bytes[3 : 3 + payload_length]\n",
    "    crc_bytes = frame_bytes[3 + payload_length : 5 + payload_length]\n",
    "    tail = frame_bytes[-1]\n",
    "\n",
    "    # Concatenating the CRC bytes into a single number\n",
    "    # Assuming CRC is in big-endian format\n",
    "    crc = (crc_bytes[0] << 8) | crc_bytes[1]\n",
    "\n",
    "    # Converting payload to hex representation\n",
    "    payload_hex = [hex(byte) for byte in payload]\n",
    "\n",
    "    crc_check = check_crc(payload, payload_length, crc)\n",
    "\n",
    "    data = None\n",
    "\n",
    "    if crc_check is False:\n",
    "        print(f\"CRC Check failed!\")\n",
    "    else:\n",
    "        data = parse_payload(payload, frame_id)\n",
    "\n",
    "    return data"
   ]
  },
  {
   "cell_type": "code",
   "execution_count": 5,
   "metadata": {
    "ExecuteTime": {
     "end_time": "2023-12-09T14:36:59.121085027Z",
     "start_time": "2023-12-09T14:36:59.096758797Z"
    }
   },
   "outputs": [],
   "source": [
    "def check_crc(payload, payload_length, crc_value):\n",
    "        INITIAL_REMAINDER = 0xFFFF\n",
    "        FINAL_XOR_VALUE = 0x0000\n",
    "        remainder = INITIAL_REMAINDER\n",
    "\n",
    "        for byte in range(payload_length):\n",
    "            data = payload[byte] ^ (remainder >> (16 - 8))\n",
    "            remainder = crcTable[data] ^ (remainder << 8) & 0xFFFF\n",
    "\n",
    "        return crc_value == (remainder ^ FINAL_XOR_VALUE)"
   ]
  },
  {
   "cell_type": "code",
   "execution_count": 6,
   "metadata": {
    "ExecuteTime": {
     "end_time": "2023-12-09T14:36:59.152398656Z",
     "start_time": "2023-12-09T14:36:59.111201326Z"
    }
   },
   "outputs": [],
   "source": [
    "import struct\n",
    "\n",
    "# +--------+--------------------+-------------+---------------+\n",
    "# | Format | C Type             | Python type | Standard size |\n",
    "# +--------+--------------------+-------------+---------------+\n",
    "# | x      | pad byte           | no value    | (7)           |\n",
    "# | c      | char               | bytes       | 1             |\n",
    "# | b      | signed char        | integer     | 1             |\n",
    "# | B      | unsigned char      | integer     | 1             |\n",
    "# | ?      | _Bool              | bool        | 1             |\n",
    "# | h      | short              | integer     | 2             |\n",
    "# | H      | unsigned short     | integer     | 2             |\n",
    "# | i      | int                | integer     | 4             |\n",
    "# | I      | unsigned int       | integer     | 4             |\n",
    "# | l      | long               | integer     | 4             |\n",
    "# | L      | unsigned long      | integer     | 4             |\n",
    "# | q      | long long          | integer     | 8             |\n",
    "# | Q      | unsigned long long | integer     | 8             |\n",
    "# | n      | ssize_t            | integer     | (3)           |\n",
    "# | N      | size_t             | integer     | (3)           |\n",
    "# | e      | (6)                | float       | 2             |\n",
    "# | f      | float              | float       | 4             |\n",
    "# | d      | double             | float       | 8             |\n",
    "# | s      | char[]             | bytes       | (9)           |\n",
    "# | p      | char[]             | bytes       | (8)           |\n",
    "# | P      | void*              | integer     | (5)           |\n",
    "# +--------+--------------------+-------------+---------------+\n",
    "\n",
    "\n",
    "frame_id_formatting = {\n",
    "    \"BBBBBBBBBBBBBBBBBBBBBBBBBBBBBBBB\": 0,  # test frame\n",
    "    # \"II\": 1,  # fini\n",
    "    \"IIIIIIIIIIIIIII\": 1,  # fini\n",
    "    \"IIIIII\": 16,  # exception\n",
    "}\n",
    "\n",
    "\n",
    "def parse_payload(data, frame_id):\n",
    "    # Ensure that the data is a bytes object\n",
    "    # if not isinstance(data, bytes):\n",
    "    #     raise ValueError(\"Data must be bytes\")\n",
    "\n",
    "    # Find the format string for the given frame_id\n",
    "    format_str = None\n",
    "    unpacked_data = ()\n",
    "    for fmt_str, id in frame_id_formatting.items():\n",
    "        if id == frame_id:\n",
    "            format_str = fmt_str\n",
    "            break\n",
    "\n",
    "    if format_str is None:\n",
    "        raise ValueError(f\"No format string found for frame ID {frame_id}\")\n",
    "\n",
    "    # Unpack the data dynamically based on the format string\n",
    "    try:\n",
    "        unpacked_data = struct.unpack(format_str, data)\n",
    "    except struct.error as e:\n",
    "        print(f\"Error unpacking data with format {format_str}: {e}, data {data}\")\n",
    "\n",
    "    # # Convert bytes to string for field4 if necessary\n",
    "    # field4 = field4.decode(\"utf-8\").rstrip(\"\\x00\")\n",
    "\n",
    "    # for field in unpacked_data:\n",
    "    #     print(hex(field))\n",
    "\n",
    "    return unpacked_data\n"
   ]
  },
  {
   "cell_type": "code",
   "execution_count": 7,
   "metadata": {
    "ExecuteTime": {
     "end_time": "2023-12-09T14:36:59.676930237Z",
     "start_time": "2023-12-09T14:36:59.152271177Z"
    }
   },
   "outputs": [
    {
     "name": "stdout",
     "output_type": "stream",
     "text": [
      "Error unpacking data with format IIIIII: unpack requires a buffer of 24 bytes, data b'\\x00\\x00\\x00\\x00\\x05\\x00\\x00\\x00\\xff\\x18\\x04\\x00\\x00\\x81\\xa7\\x07\\x00\\x0c\\x02@\\x80'\n",
      "CRC Check failed!\n",
      "Error unpacking data with format IIIIII: unpack requires a buffer of 24 bytes, data b'\\x00\\x00\\x00\\x00\\x02\\x00\\x00\\x00\\xff$\\x0c\\x00@\\x00\\x00\\x00\\x00\\x00\\x00\\x00\\x00'\n",
      "Error unpacking data with format IIIIII: unpack requires a buffer of 24 bytes, data b'\\x00\\x00\\x00\\x00\\x05\\x00\\x00\\x00\\xff\\\\\\x07\\x00\\x00\\x83\\xd7\\xc7\\x03\\x10\\x1a\\x00\\xa0'\n",
      "Error unpacking data with format IIIIII: unpack requires a buffer of 24 bytes, data b'\\x00\\x00\\x00\\x00\\x05\\x00\\x00\\x00\\xff\\xd0\\x05\\x00\\x00\\x83\\x97\\x07\\x00H\\x02\\x00\\x88'\n",
      "CRC Check failed!\n",
      "Error unpacking data with format IIIIII: unpack requires a buffer of 24 bytes, data b'\\x00\\x00\\x00\\x00\\x07\\x00\\x00\\x00\\xff0\\x08\\x00\\x00#\\x11\\xf4\\xfen\\x19 \\x80'\n",
      "CRC Check failed!\n",
      "CRC Check failed!\n",
      "CRC Check failed!\n",
      "CRC Check failed!\n",
      "Error unpacking data with format IIIIII: unpack requires a buffer of 24 bytes, data b'\\x00\\x00\\x00\\x00\\x02\\x00\\x00\\x00\\xff,\\x18\\x00\\x80\\x00\\x00\\x00\\x00\\x00\\x00\\x00\\x00'\n",
      "CRC Check failed!\n",
      "CRC Check failed!\n",
      "CRC Check failed!\n",
      "Error unpacking data with format IIIIII: unpack requires a buffer of 24 bytes, data b'\\x00\\x00\\x00\\x00\\x05\\x00\\x00\\x00\\xff\\xa2\\xb1\\x00\\x00\\x83\\x97\\x07\\x00\\x8a\\x04\\x08\\x80'\n",
      "Error unpacking data with format IIIIII: unpack requires a buffer of 24 bytes, data b'\\x00\\x00\\x00\\x00\\x04\\x00\\x00\\x00\\xffn\\x06\\x00\\x00\\x83\\xd7\\x07\\x00\\xbf?\\x05\\x00'\n",
      "Error unpacking data with format IIIIII: unpack requires a buffer of 24 bytes, data b'\\x00\\x00\\x00\\x00\\x02\\x00\\x00\\x00\\xff\\xb0\\x04\\x01\\x00\\x00\\x00\\x00\\x00\\x00\\x00\\x00\\x00'\n"
     ]
    }
   ],
   "source": [
    "for frame in sorted_frames:\n",
    "    frame['timestamp'] = str(datetime.utcfromtimestamp(float(frame['timestamp'])).replace(tzinfo=timezone.utc).strftime('%Y-%m-%d %H:%M:%S.%f UTC'))\n",
    "    if 'data' in frame:\n",
    "        try:\n",
    "            decoded_frame = decode_frame(bytes.fromhex(frame['data']))\n",
    "            #CRC check failed\n",
    "            if decoded_frame == None:\n",
    "                parsed_frames.append({'timestamp': frame['timestamp'], 'error': \"CRC check error\"})\n",
    "                crc_errors += 1\n",
    "            # Exception\n",
    "            elif len(decoded_frame) < 15:\n",
    "                parsed_frames.append({'timestamp': frame['timestamp'], 'error': f\"Frame parsing error. Data field too small: {decode_frame}\"})\n",
    "            # Data correct\n",
    "            else:\n",
    "                frame['data'] = decoded_frame\n",
    "                parsed_frames.append(frame)\n",
    "        except Exception as error:\n",
    "            frame_parsing_errors += 1\n",
    "            parsed_frames.append({'timestamp': frame['timestamp'], 'error': \"Frame parsing error (possibly due to comm failure)\"})\n",
    "            #print(f\"Parsing error! {error}\")\n",
    "    elif 'event' in frame:\n",
    "        parsed_frames.append(frame)"
   ]
  },
  {
   "cell_type": "markdown",
   "metadata": {},
   "source": [
    "Filtering out duplicate entries"
   ]
  },
  {
   "cell_type": "code",
   "execution_count": 8,
   "metadata": {
    "ExecuteTime": {
     "end_time": "2023-12-09T14:36:59.679928141Z",
     "start_time": "2023-12-09T14:36:59.676840158Z"
    }
   },
   "outputs": [],
   "source": [
    "previous_entry = None\n",
    "# Filtering duplicate payloads out\n",
    "for frame in parsed_frames:\n",
    "    if previous_entry is None or frame['data'] != previous_entry or 'error' in frame:\n",
    "        #frame['payload'] = frame.pop('data')\n",
    "        filtered_frames.append(frame)\n",
    "\n"
   ]
  },
  {
   "cell_type": "code",
   "execution_count": 9,
   "metadata": {
    "ExecuteTime": {
     "end_time": "2023-12-09T14:36:59.882706517Z",
     "start_time": "2023-12-09T14:36:59.680735207Z"
    }
   },
   "outputs": [],
   "source": [
    "data_frame = []\n",
    "\n",
    "for frame in parsed_frames:\n",
    "    if 'data' in frame:\n",
    "        parsed_payload = (frame['timestamp'],) + frame['data']\n",
    "        keys = ['timestamp', 'total_errors', 'mcycle', 'minstret', 'imem_se', 'imem_de', 'dmem_se', 'dmem_de', 'regfile_se', 'regfile_de', 'iv', 'jump', 'branch', 'dsp_t', 'trap', 'illegal']\n",
    "        bruno_keys = ['timestamp', 'cy_c', 'tm_c', 'ir_c', 'wait_ii', 'wait_if', 'wait_mc', 'load', 'store', 'wait_ls', 'branch', 'tbranch', 'imem_ecc', 'dmem_ecc', 'regfile', 'iv']\n",
    "        mapping = {num: key for num, key in zip(bruno_keys, parsed_payload)}\n",
    "        data_frame.append(mapping)\n",
    "\n",
    "df = pd.DataFrame(data_frame)"
   ]
  },
  {
   "cell_type": "code",
   "execution_count": 10,
   "metadata": {
    "ExecuteTime": {
     "end_time": "2023-12-09T14:36:59.927766707Z",
     "start_time": "2023-12-09T14:36:59.883494478Z"
    }
   },
   "outputs": [
    {
     "data": {
      "text/plain": "                            timestamp        cy_c      tm_c      ir_c  \\\n0      2023-12-08 17:34:20.871260 UTC           0  96470600  11242419   \n3213   2023-12-08 19:21:28.885173 UTC           2  77801634   9199635   \n9084   2023-12-08 22:32:30.175532 UTC           1  96175017  11199675   \n24720  2023-12-09 06:32:11.583499 UTC  4294967295  69868297   8319343   \n\n        wait_ii   wait_if   wait_mc     load    store   wait_ls  branch  \\\n0      16267333  38158950  22063286  4381079  1426024  16196283  817756   \n3213    9190799  26470894  21938180  3752811  1186280  12031358  607386   \n9084   16251524  38159002  21941092  4367504  1418544  16195165  816461   \n24720   6299527  21647116  21788620  3474850  1083399  10297678  517907   \n\n       tbranch  imem_ecc  dmem_ecc  regfile      iv  \n0       509563         0         0        0       0  \n3213    398762      1169         0        0    1129  \n9084    507143      7181         0        0    6901  \n24720   351688    141832         0        0  128120  ",
      "text/html": "<div>\n<style scoped>\n    .dataframe tbody tr th:only-of-type {\n        vertical-align: middle;\n    }\n\n    .dataframe tbody tr th {\n        vertical-align: top;\n    }\n\n    .dataframe thead th {\n        text-align: right;\n    }\n</style>\n<table border=\"1\" class=\"dataframe\">\n  <thead>\n    <tr style=\"text-align: right;\">\n      <th></th>\n      <th>timestamp</th>\n      <th>cy_c</th>\n      <th>tm_c</th>\n      <th>ir_c</th>\n      <th>wait_ii</th>\n      <th>wait_if</th>\n      <th>wait_mc</th>\n      <th>load</th>\n      <th>store</th>\n      <th>wait_ls</th>\n      <th>branch</th>\n      <th>tbranch</th>\n      <th>imem_ecc</th>\n      <th>dmem_ecc</th>\n      <th>regfile</th>\n      <th>iv</th>\n    </tr>\n  </thead>\n  <tbody>\n    <tr>\n      <th>0</th>\n      <td>2023-12-08 17:34:20.871260 UTC</td>\n      <td>0</td>\n      <td>96470600</td>\n      <td>11242419</td>\n      <td>16267333</td>\n      <td>38158950</td>\n      <td>22063286</td>\n      <td>4381079</td>\n      <td>1426024</td>\n      <td>16196283</td>\n      <td>817756</td>\n      <td>509563</td>\n      <td>0</td>\n      <td>0</td>\n      <td>0</td>\n      <td>0</td>\n    </tr>\n    <tr>\n      <th>3213</th>\n      <td>2023-12-08 19:21:28.885173 UTC</td>\n      <td>2</td>\n      <td>77801634</td>\n      <td>9199635</td>\n      <td>9190799</td>\n      <td>26470894</td>\n      <td>21938180</td>\n      <td>3752811</td>\n      <td>1186280</td>\n      <td>12031358</td>\n      <td>607386</td>\n      <td>398762</td>\n      <td>1169</td>\n      <td>0</td>\n      <td>0</td>\n      <td>1129</td>\n    </tr>\n    <tr>\n      <th>9084</th>\n      <td>2023-12-08 22:32:30.175532 UTC</td>\n      <td>1</td>\n      <td>96175017</td>\n      <td>11199675</td>\n      <td>16251524</td>\n      <td>38159002</td>\n      <td>21941092</td>\n      <td>4367504</td>\n      <td>1418544</td>\n      <td>16195165</td>\n      <td>816461</td>\n      <td>507143</td>\n      <td>7181</td>\n      <td>0</td>\n      <td>0</td>\n      <td>6901</td>\n    </tr>\n    <tr>\n      <th>24720</th>\n      <td>2023-12-09 06:32:11.583499 UTC</td>\n      <td>4294967295</td>\n      <td>69868297</td>\n      <td>8319343</td>\n      <td>6299527</td>\n      <td>21647116</td>\n      <td>21788620</td>\n      <td>3474850</td>\n      <td>1083399</td>\n      <td>10297678</td>\n      <td>517907</td>\n      <td>351688</td>\n      <td>141832</td>\n      <td>0</td>\n      <td>0</td>\n      <td>128120</td>\n    </tr>\n  </tbody>\n</table>\n</div>"
     },
     "execution_count": 10,
     "metadata": {},
     "output_type": "execute_result"
    }
   ],
   "source": [
    "df_no_duplicates = df.drop_duplicates(subset='cy_c', keep='first')\n",
    "df_no_duplicates"
   ]
  },
  {
   "cell_type": "markdown",
   "metadata": {},
   "source": [
    "# IV detections"
   ]
  },
  {
   "cell_type": "code",
   "execution_count": 11,
   "metadata": {
    "ExecuteTime": {
     "end_time": "2023-12-09T14:36:59.929128636Z",
     "start_time": "2023-12-09T14:36:59.925359073Z"
    }
   },
   "outputs": [],
   "source": [
    "filtered = df[df['iv'] > 0]\n",
    "#filtered"
   ]
  },
  {
   "cell_type": "markdown",
   "metadata": {},
   "source": [
    "# IV FPR higher than 2%"
   ]
  },
  {
   "cell_type": "markdown",
   "metadata": {},
   "source": [
    "scaler = MinMaxScaler()\n",
    "df['imem_se'] = scaler.fit_transform(df[['imem_se']])\n",
    "df['iv'] = scaler.fit_transform(df[['iv']])\n",
    "df_no_duplicates = df.drop_duplicates(subset='iv', keep='first')\n",
    "fpr_violation_condition = df_no_duplicates['iv'] < (0.98*df_no_duplicates['imem_se'])\n",
    "fpr_violation_condition"
   ]
  },
  {
   "cell_type": "markdown",
   "metadata": {},
   "source": [
    "# Double bit errors"
   ]
  },
  {
   "cell_type": "code",
   "execution_count": 12,
   "metadata": {
    "ExecuteTime": {
     "end_time": "2023-12-09T14:36:59.929810287Z",
     "start_time": "2023-12-09T14:36:59.925728136Z"
    }
   },
   "outputs": [],
   "source": [
    "fpr_violation_condition = df['iv'] > (0.98*df['imem_ecc'])\n",
    "# df[fpr_violation_condition]"
   ]
  },
  {
   "cell_type": "markdown",
   "metadata": {},
   "source": [
    "Filtering based on SmartFusion2 reset. Excluding DMEM and Register file because of scrubbing and overwriting"
   ]
  },
  {
   "cell_type": "code",
   "execution_count": 13,
   "metadata": {
    "ExecuteTime": {
     "end_time": "2023-12-09T14:37:01.021244926Z",
     "start_time": "2023-12-09T14:36:59.925988916Z"
    }
   },
   "outputs": [
    {
     "data": {
      "text/plain": "                            timestamp        cy_c      tm_c      ir_c  \\\n1323   2023-12-08 18:17:07.313224 UTC           0  96470600  11242419   \n1324   2023-12-08 18:17:08.840984 UTC           0  96470600  11242419   \n1325   2023-12-08 18:17:09.249002 UTC           0  96470600  11242419   \n1326   2023-12-08 18:17:10.776862 UTC           0  96470600  11242419   \n1327   2023-12-08 18:17:11.191691 UTC           0  96470600  11242419   \n1328   2023-12-08 18:17:12.721105 UTC           0  96470600  11242419   \n3082   2023-12-08 19:13:53.910259 UTC           0  96470600  11242419   \n3083   2023-12-08 19:14:52.372268 UTC           0  96470600  11242419   \n5951   2023-12-08 20:31:06.065188 UTC           2  72046749   8567922   \n5952   2023-12-08 20:32:05.961651 UTC           0  96470600  11242419   \n6326   2023-12-08 21:00:23.534757 UTC           0  96470600  11242419   \n6327   2023-12-08 21:01:07.366683 UTC           0  96470600  11242419   \n6824   2023-12-08 21:17:10.117631 UTC           0  96470600  11242419   \n6825   2023-12-08 21:17:11.703152 UTC           0  96470600  11242419   \n6826   2023-12-08 21:17:12.052225 UTC           0  96470600  11242419   \n6827   2023-12-08 21:17:13.639184 UTC           0  96470600  11242419   \n6828   2023-12-08 21:17:13.997350 UTC           0  96470600  11242419   \n6829   2023-12-08 21:17:15.584333 UTC           0  96470600  11242419   \n8525   2023-12-08 22:12:06.124407 UTC           0  96470600  11242419   \n8526   2023-12-08 22:14:28.981422 UTC           0  96470600  11242419   \n15173  2023-12-09 01:48:47.071409 UTC           1  96175017  11199675   \n15174  2023-12-09 01:49:47.339739 UTC           0  96470600  11242419   \n24948  2023-12-09 06:37:32.618241 UTC  4294967295  69868297   8319343   \n24949  2023-12-09 06:38:32.332448 UTC           0  96470600  11242419   \n27502  2023-12-09 07:48:44.252521 UTC           2  77375503   9153671   \n27503  2023-12-09 07:49:44.732690 UTC           0  96470600  11242419   \n27709  2023-12-09 07:56:24.477079 UTC           0  96485727  11244091   \n27710  2023-12-09 07:56:26.413240 UTC           0  96470600  11242419   \n28407  2023-12-09 08:19:06.312937 UTC           0  96470600  11242419   \n28408  2023-12-09 08:20:07.058451 UTC           0  96470600  11242419   \n28416  2023-12-09 08:20:22.586685 UTC           0  96453992  11240659   \n28417  2023-12-09 08:20:24.528651 UTC           0  96470600  11242419   \n31382  2023-12-09 11:08:41.333547 UTC           0  96470600  11242419   \n31383  2023-12-09 11:09:41.161832 UTC           0  96470600  11242419   \n31389  2023-12-09 11:09:52.808508 UTC           0  96489654  11244840   \n31390  2023-12-09 11:09:54.747828 UTC           0  96470600  11242419   \n32606  2023-12-09 11:56:22.806047 UTC           0  96470600  11242419   \n32607  2023-12-09 11:57:22.589044 UTC           0  96470600  11242419   \n34175  2023-12-09 12:48:04.623323 UTC           0  96470600  11242419   \n34176  2023-12-09 12:49:04.086731 UTC           0  96470600  11242419   \n34551  2023-12-09 13:01:11.708723 UTC           0  96470600  11242419   \n34552  2023-12-09 13:02:12.192870 UTC           0  96470600  11242419   \n34671  2023-12-09 13:06:03.094072 UTC           0  96470600  11242419   \n34672  2023-12-09 13:06:05.038587 UTC           0  96470600  11242419   \n\n        wait_ii   wait_if   wait_mc     load    store   wait_ls  branch  \\\n1323   16267333  38158950  22063286  4381079  1426024  16196283  817756   \n1324   16267333  38158950  22063286  4381079  1426024  16196283  817756   \n1325   16267333  38158950  22063286  4381079  1426024  16196283  817756   \n1326   16267333  38158950  22063286  4381079  1426024  16196283  817756   \n1327   16267333  38158950  22063286  4381079  1426024  16196283  817756   \n1328   16267333  38158950  22063286  4381079  1426024  16196283  817756   \n3082   16267333  38158950  22063286  4381079  1426024  16196283  817756   \n3083   16267333  38158950  22063286  4381079  1426024  16196283  817756   \n5951    7032987  22870254  21893912  3558389  1111443  10737566  542835   \n5952   16267333  38158950  22063286  4381079  1426024  16196283  817756   \n6326   16267333  38158950  22063286  4381079  1426024  16196283  817756   \n6327   16267333  38158950  22063286  4381079  1426024  16196283  817756   \n6824   16267333  38158950  22063286  4381079  1426024  16196283  817756   \n6825   16267333  38158950  22063286  4381079  1426024  16196283  817756   \n6826   16267333  38158950  22063286  4381079  1426024  16196283  817756   \n6827   16267333  38158950  22063286  4381079  1426024  16196283  817756   \n6828   16267333  38158950  22063286  4381079  1426024  16196283  817756   \n6829   16267333  38158950  22063286  4381079  1426024  16196283  817756   \n8525   16267333  38158950  22063286  4381079  1426024  16196283  817756   \n8526   16267333  38158950  22063286  4381079  1426024  16196283  817756   \n15173  16251524  38159002  21941092  4367504  1418544  16195165  816461   \n15174  16267333  38158950  22063286  4381079  1426024  16196283  817756   \n24948   6299527  21647116  21788620  3474850  1083399  10297678  517907   \n24949  16267333  38158950  22063286  4381079  1426024  16196283  817756   \n27502   9035144  26206014  21930376  3738398  1180919  11933308  602686   \n27503  16267333  38158950  22063286  4381079  1426024  16196283  817756   \n27709  16273768  38170689  22062893  4381548  1426163  16199704  817950   \n27710  16267333  38158950  22063286  4381079  1426024  16196283  817756   \n28407  16267333  38158950  22063286  4381079  1426024  16196283  817756   \n28408  16267333  38158950  22063286  4381079  1426024  16196283  817756   \n28416  16260293  38147910  22063190  4380567  1425864  16192923  817564   \n28417  16267333  38158950  22063286  4381079  1426024  16196283  817756   \n31382  16267333  38158950  22063286  4381079  1426024  16196283  817756   \n31383  16267333  38158950  22063286  4381079  1426024  16196283  817756   \n31389  16270886  38167546  22066318  4381832  1426432  16199973  817835   \n31390  16267333  38158950  22063286  4381079  1426024  16196283  817756   \n32606  16267333  38158950  22063286  4381079  1426024  16196283  817756   \n32607  16267333  38158950  22063286  4381079  1426024  16196283  817756   \n34175  16267333  38158950  22063286  4381079  1426024  16196283  817756   \n34176  16267333  38158950  22063286  4381079  1426024  16196283  817756   \n34551  16267333  38158950  22063286  4381079  1426024  16196283  817756   \n34552  16267333  38158950  22063286  4381079  1426024  16196283  817756   \n34671  16267333  38158950  22063286  4381079  1426024  16196283  817756   \n34672  16267333  38158950  22063286  4381079  1426024  16196283  817756   \n\n       tbranch  imem_ecc  dmem_ecc  regfile      iv  \n1323    509563     11242         0        0    9282  \n1324    509563         0         0        0       0  \n1325    509563     11242         0        0    9282  \n1326    509563         0         0        0       0  \n1327    509563     11242         0        0    9282  \n1328    509563         0         0        0       0  \n3082    509563    339279         0        0  240371  \n3083    509563         0         0        0       0  \n5951    365025    148727         0        0   77699  \n5952    509563         0         0        0       0  \n6326    509563       362         0        0     362  \n6327    509563         0         0        0       0  \n6824    509563     73116         0        0   63672  \n6825    509563         0         0        0       0  \n6826    509563     73116         0        0   63672  \n6827    509563         0         0        0       0  \n6828    509563     73116         0        0   63672  \n6829    509563         0         0        0       0  \n8525    509563     73116         0        0   63672  \n8526    509563         0         0        0       0  \n15173   507143     16823         0        0    9438  \n15174   509563         0         0        0       0  \n24948   351688    142452         0        0  128120  \n24949   509563         0         0        0       0  \n27502   396666     70922         0        0   31623  \n27503   509563         0         0        0       0  \n27709   509685         0        78        0       0  \n27710   509563         0         0        0       0  \n28407   509563     41443         0        0    1041  \n28408   509563         0         0        0       0  \n28416   509435         0        16        0       0  \n28417   509563         0         0        0       0  \n31382   509563    163320         0        0  121896  \n31383   509563         0         0        0       0  \n31389   509700         0        28        0       0  \n31390   509563         0         0        0       0  \n32606   509563     54043         0        0   51145  \n32607   509563         0         0        0       0  \n34175   509563    112212         0        0   80894  \n34176   509563         0         0        0       0  \n34551   509563     67888         0        0    2266  \n34552   509563         0         0        0       0  \n34671   509563         0        90        0       0  \n34672   509563         0         0        0       0  ",
      "text/html": "<div>\n<style scoped>\n    .dataframe tbody tr th:only-of-type {\n        vertical-align: middle;\n    }\n\n    .dataframe tbody tr th {\n        vertical-align: top;\n    }\n\n    .dataframe thead th {\n        text-align: right;\n    }\n</style>\n<table border=\"1\" class=\"dataframe\">\n  <thead>\n    <tr style=\"text-align: right;\">\n      <th></th>\n      <th>timestamp</th>\n      <th>cy_c</th>\n      <th>tm_c</th>\n      <th>ir_c</th>\n      <th>wait_ii</th>\n      <th>wait_if</th>\n      <th>wait_mc</th>\n      <th>load</th>\n      <th>store</th>\n      <th>wait_ls</th>\n      <th>branch</th>\n      <th>tbranch</th>\n      <th>imem_ecc</th>\n      <th>dmem_ecc</th>\n      <th>regfile</th>\n      <th>iv</th>\n    </tr>\n  </thead>\n  <tbody>\n    <tr>\n      <th>1323</th>\n      <td>2023-12-08 18:17:07.313224 UTC</td>\n      <td>0</td>\n      <td>96470600</td>\n      <td>11242419</td>\n      <td>16267333</td>\n      <td>38158950</td>\n      <td>22063286</td>\n      <td>4381079</td>\n      <td>1426024</td>\n      <td>16196283</td>\n      <td>817756</td>\n      <td>509563</td>\n      <td>11242</td>\n      <td>0</td>\n      <td>0</td>\n      <td>9282</td>\n    </tr>\n    <tr>\n      <th>1324</th>\n      <td>2023-12-08 18:17:08.840984 UTC</td>\n      <td>0</td>\n      <td>96470600</td>\n      <td>11242419</td>\n      <td>16267333</td>\n      <td>38158950</td>\n      <td>22063286</td>\n      <td>4381079</td>\n      <td>1426024</td>\n      <td>16196283</td>\n      <td>817756</td>\n      <td>509563</td>\n      <td>0</td>\n      <td>0</td>\n      <td>0</td>\n      <td>0</td>\n    </tr>\n    <tr>\n      <th>1325</th>\n      <td>2023-12-08 18:17:09.249002 UTC</td>\n      <td>0</td>\n      <td>96470600</td>\n      <td>11242419</td>\n      <td>16267333</td>\n      <td>38158950</td>\n      <td>22063286</td>\n      <td>4381079</td>\n      <td>1426024</td>\n      <td>16196283</td>\n      <td>817756</td>\n      <td>509563</td>\n      <td>11242</td>\n      <td>0</td>\n      <td>0</td>\n      <td>9282</td>\n    </tr>\n    <tr>\n      <th>1326</th>\n      <td>2023-12-08 18:17:10.776862 UTC</td>\n      <td>0</td>\n      <td>96470600</td>\n      <td>11242419</td>\n      <td>16267333</td>\n      <td>38158950</td>\n      <td>22063286</td>\n      <td>4381079</td>\n      <td>1426024</td>\n      <td>16196283</td>\n      <td>817756</td>\n      <td>509563</td>\n      <td>0</td>\n      <td>0</td>\n      <td>0</td>\n      <td>0</td>\n    </tr>\n    <tr>\n      <th>1327</th>\n      <td>2023-12-08 18:17:11.191691 UTC</td>\n      <td>0</td>\n      <td>96470600</td>\n      <td>11242419</td>\n      <td>16267333</td>\n      <td>38158950</td>\n      <td>22063286</td>\n      <td>4381079</td>\n      <td>1426024</td>\n      <td>16196283</td>\n      <td>817756</td>\n      <td>509563</td>\n      <td>11242</td>\n      <td>0</td>\n      <td>0</td>\n      <td>9282</td>\n    </tr>\n    <tr>\n      <th>1328</th>\n      <td>2023-12-08 18:17:12.721105 UTC</td>\n      <td>0</td>\n      <td>96470600</td>\n      <td>11242419</td>\n      <td>16267333</td>\n      <td>38158950</td>\n      <td>22063286</td>\n      <td>4381079</td>\n      <td>1426024</td>\n      <td>16196283</td>\n      <td>817756</td>\n      <td>509563</td>\n      <td>0</td>\n      <td>0</td>\n      <td>0</td>\n      <td>0</td>\n    </tr>\n    <tr>\n      <th>3082</th>\n      <td>2023-12-08 19:13:53.910259 UTC</td>\n      <td>0</td>\n      <td>96470600</td>\n      <td>11242419</td>\n      <td>16267333</td>\n      <td>38158950</td>\n      <td>22063286</td>\n      <td>4381079</td>\n      <td>1426024</td>\n      <td>16196283</td>\n      <td>817756</td>\n      <td>509563</td>\n      <td>339279</td>\n      <td>0</td>\n      <td>0</td>\n      <td>240371</td>\n    </tr>\n    <tr>\n      <th>3083</th>\n      <td>2023-12-08 19:14:52.372268 UTC</td>\n      <td>0</td>\n      <td>96470600</td>\n      <td>11242419</td>\n      <td>16267333</td>\n      <td>38158950</td>\n      <td>22063286</td>\n      <td>4381079</td>\n      <td>1426024</td>\n      <td>16196283</td>\n      <td>817756</td>\n      <td>509563</td>\n      <td>0</td>\n      <td>0</td>\n      <td>0</td>\n      <td>0</td>\n    </tr>\n    <tr>\n      <th>5951</th>\n      <td>2023-12-08 20:31:06.065188 UTC</td>\n      <td>2</td>\n      <td>72046749</td>\n      <td>8567922</td>\n      <td>7032987</td>\n      <td>22870254</td>\n      <td>21893912</td>\n      <td>3558389</td>\n      <td>1111443</td>\n      <td>10737566</td>\n      <td>542835</td>\n      <td>365025</td>\n      <td>148727</td>\n      <td>0</td>\n      <td>0</td>\n      <td>77699</td>\n    </tr>\n    <tr>\n      <th>5952</th>\n      <td>2023-12-08 20:32:05.961651 UTC</td>\n      <td>0</td>\n      <td>96470600</td>\n      <td>11242419</td>\n      <td>16267333</td>\n      <td>38158950</td>\n      <td>22063286</td>\n      <td>4381079</td>\n      <td>1426024</td>\n      <td>16196283</td>\n      <td>817756</td>\n      <td>509563</td>\n      <td>0</td>\n      <td>0</td>\n      <td>0</td>\n      <td>0</td>\n    </tr>\n    <tr>\n      <th>6326</th>\n      <td>2023-12-08 21:00:23.534757 UTC</td>\n      <td>0</td>\n      <td>96470600</td>\n      <td>11242419</td>\n      <td>16267333</td>\n      <td>38158950</td>\n      <td>22063286</td>\n      <td>4381079</td>\n      <td>1426024</td>\n      <td>16196283</td>\n      <td>817756</td>\n      <td>509563</td>\n      <td>362</td>\n      <td>0</td>\n      <td>0</td>\n      <td>362</td>\n    </tr>\n    <tr>\n      <th>6327</th>\n      <td>2023-12-08 21:01:07.366683 UTC</td>\n      <td>0</td>\n      <td>96470600</td>\n      <td>11242419</td>\n      <td>16267333</td>\n      <td>38158950</td>\n      <td>22063286</td>\n      <td>4381079</td>\n      <td>1426024</td>\n      <td>16196283</td>\n      <td>817756</td>\n      <td>509563</td>\n      <td>0</td>\n      <td>0</td>\n      <td>0</td>\n      <td>0</td>\n    </tr>\n    <tr>\n      <th>6824</th>\n      <td>2023-12-08 21:17:10.117631 UTC</td>\n      <td>0</td>\n      <td>96470600</td>\n      <td>11242419</td>\n      <td>16267333</td>\n      <td>38158950</td>\n      <td>22063286</td>\n      <td>4381079</td>\n      <td>1426024</td>\n      <td>16196283</td>\n      <td>817756</td>\n      <td>509563</td>\n      <td>73116</td>\n      <td>0</td>\n      <td>0</td>\n      <td>63672</td>\n    </tr>\n    <tr>\n      <th>6825</th>\n      <td>2023-12-08 21:17:11.703152 UTC</td>\n      <td>0</td>\n      <td>96470600</td>\n      <td>11242419</td>\n      <td>16267333</td>\n      <td>38158950</td>\n      <td>22063286</td>\n      <td>4381079</td>\n      <td>1426024</td>\n      <td>16196283</td>\n      <td>817756</td>\n      <td>509563</td>\n      <td>0</td>\n      <td>0</td>\n      <td>0</td>\n      <td>0</td>\n    </tr>\n    <tr>\n      <th>6826</th>\n      <td>2023-12-08 21:17:12.052225 UTC</td>\n      <td>0</td>\n      <td>96470600</td>\n      <td>11242419</td>\n      <td>16267333</td>\n      <td>38158950</td>\n      <td>22063286</td>\n      <td>4381079</td>\n      <td>1426024</td>\n      <td>16196283</td>\n      <td>817756</td>\n      <td>509563</td>\n      <td>73116</td>\n      <td>0</td>\n      <td>0</td>\n      <td>63672</td>\n    </tr>\n    <tr>\n      <th>6827</th>\n      <td>2023-12-08 21:17:13.639184 UTC</td>\n      <td>0</td>\n      <td>96470600</td>\n      <td>11242419</td>\n      <td>16267333</td>\n      <td>38158950</td>\n      <td>22063286</td>\n      <td>4381079</td>\n      <td>1426024</td>\n      <td>16196283</td>\n      <td>817756</td>\n      <td>509563</td>\n      <td>0</td>\n      <td>0</td>\n      <td>0</td>\n      <td>0</td>\n    </tr>\n    <tr>\n      <th>6828</th>\n      <td>2023-12-08 21:17:13.997350 UTC</td>\n      <td>0</td>\n      <td>96470600</td>\n      <td>11242419</td>\n      <td>16267333</td>\n      <td>38158950</td>\n      <td>22063286</td>\n      <td>4381079</td>\n      <td>1426024</td>\n      <td>16196283</td>\n      <td>817756</td>\n      <td>509563</td>\n      <td>73116</td>\n      <td>0</td>\n      <td>0</td>\n      <td>63672</td>\n    </tr>\n    <tr>\n      <th>6829</th>\n      <td>2023-12-08 21:17:15.584333 UTC</td>\n      <td>0</td>\n      <td>96470600</td>\n      <td>11242419</td>\n      <td>16267333</td>\n      <td>38158950</td>\n      <td>22063286</td>\n      <td>4381079</td>\n      <td>1426024</td>\n      <td>16196283</td>\n      <td>817756</td>\n      <td>509563</td>\n      <td>0</td>\n      <td>0</td>\n      <td>0</td>\n      <td>0</td>\n    </tr>\n    <tr>\n      <th>8525</th>\n      <td>2023-12-08 22:12:06.124407 UTC</td>\n      <td>0</td>\n      <td>96470600</td>\n      <td>11242419</td>\n      <td>16267333</td>\n      <td>38158950</td>\n      <td>22063286</td>\n      <td>4381079</td>\n      <td>1426024</td>\n      <td>16196283</td>\n      <td>817756</td>\n      <td>509563</td>\n      <td>73116</td>\n      <td>0</td>\n      <td>0</td>\n      <td>63672</td>\n    </tr>\n    <tr>\n      <th>8526</th>\n      <td>2023-12-08 22:14:28.981422 UTC</td>\n      <td>0</td>\n      <td>96470600</td>\n      <td>11242419</td>\n      <td>16267333</td>\n      <td>38158950</td>\n      <td>22063286</td>\n      <td>4381079</td>\n      <td>1426024</td>\n      <td>16196283</td>\n      <td>817756</td>\n      <td>509563</td>\n      <td>0</td>\n      <td>0</td>\n      <td>0</td>\n      <td>0</td>\n    </tr>\n    <tr>\n      <th>15173</th>\n      <td>2023-12-09 01:48:47.071409 UTC</td>\n      <td>1</td>\n      <td>96175017</td>\n      <td>11199675</td>\n      <td>16251524</td>\n      <td>38159002</td>\n      <td>21941092</td>\n      <td>4367504</td>\n      <td>1418544</td>\n      <td>16195165</td>\n      <td>816461</td>\n      <td>507143</td>\n      <td>16823</td>\n      <td>0</td>\n      <td>0</td>\n      <td>9438</td>\n    </tr>\n    <tr>\n      <th>15174</th>\n      <td>2023-12-09 01:49:47.339739 UTC</td>\n      <td>0</td>\n      <td>96470600</td>\n      <td>11242419</td>\n      <td>16267333</td>\n      <td>38158950</td>\n      <td>22063286</td>\n      <td>4381079</td>\n      <td>1426024</td>\n      <td>16196283</td>\n      <td>817756</td>\n      <td>509563</td>\n      <td>0</td>\n      <td>0</td>\n      <td>0</td>\n      <td>0</td>\n    </tr>\n    <tr>\n      <th>24948</th>\n      <td>2023-12-09 06:37:32.618241 UTC</td>\n      <td>4294967295</td>\n      <td>69868297</td>\n      <td>8319343</td>\n      <td>6299527</td>\n      <td>21647116</td>\n      <td>21788620</td>\n      <td>3474850</td>\n      <td>1083399</td>\n      <td>10297678</td>\n      <td>517907</td>\n      <td>351688</td>\n      <td>142452</td>\n      <td>0</td>\n      <td>0</td>\n      <td>128120</td>\n    </tr>\n    <tr>\n      <th>24949</th>\n      <td>2023-12-09 06:38:32.332448 UTC</td>\n      <td>0</td>\n      <td>96470600</td>\n      <td>11242419</td>\n      <td>16267333</td>\n      <td>38158950</td>\n      <td>22063286</td>\n      <td>4381079</td>\n      <td>1426024</td>\n      <td>16196283</td>\n      <td>817756</td>\n      <td>509563</td>\n      <td>0</td>\n      <td>0</td>\n      <td>0</td>\n      <td>0</td>\n    </tr>\n    <tr>\n      <th>27502</th>\n      <td>2023-12-09 07:48:44.252521 UTC</td>\n      <td>2</td>\n      <td>77375503</td>\n      <td>9153671</td>\n      <td>9035144</td>\n      <td>26206014</td>\n      <td>21930376</td>\n      <td>3738398</td>\n      <td>1180919</td>\n      <td>11933308</td>\n      <td>602686</td>\n      <td>396666</td>\n      <td>70922</td>\n      <td>0</td>\n      <td>0</td>\n      <td>31623</td>\n    </tr>\n    <tr>\n      <th>27503</th>\n      <td>2023-12-09 07:49:44.732690 UTC</td>\n      <td>0</td>\n      <td>96470600</td>\n      <td>11242419</td>\n      <td>16267333</td>\n      <td>38158950</td>\n      <td>22063286</td>\n      <td>4381079</td>\n      <td>1426024</td>\n      <td>16196283</td>\n      <td>817756</td>\n      <td>509563</td>\n      <td>0</td>\n      <td>0</td>\n      <td>0</td>\n      <td>0</td>\n    </tr>\n    <tr>\n      <th>27709</th>\n      <td>2023-12-09 07:56:24.477079 UTC</td>\n      <td>0</td>\n      <td>96485727</td>\n      <td>11244091</td>\n      <td>16273768</td>\n      <td>38170689</td>\n      <td>22062893</td>\n      <td>4381548</td>\n      <td>1426163</td>\n      <td>16199704</td>\n      <td>817950</td>\n      <td>509685</td>\n      <td>0</td>\n      <td>78</td>\n      <td>0</td>\n      <td>0</td>\n    </tr>\n    <tr>\n      <th>27710</th>\n      <td>2023-12-09 07:56:26.413240 UTC</td>\n      <td>0</td>\n      <td>96470600</td>\n      <td>11242419</td>\n      <td>16267333</td>\n      <td>38158950</td>\n      <td>22063286</td>\n      <td>4381079</td>\n      <td>1426024</td>\n      <td>16196283</td>\n      <td>817756</td>\n      <td>509563</td>\n      <td>0</td>\n      <td>0</td>\n      <td>0</td>\n      <td>0</td>\n    </tr>\n    <tr>\n      <th>28407</th>\n      <td>2023-12-09 08:19:06.312937 UTC</td>\n      <td>0</td>\n      <td>96470600</td>\n      <td>11242419</td>\n      <td>16267333</td>\n      <td>38158950</td>\n      <td>22063286</td>\n      <td>4381079</td>\n      <td>1426024</td>\n      <td>16196283</td>\n      <td>817756</td>\n      <td>509563</td>\n      <td>41443</td>\n      <td>0</td>\n      <td>0</td>\n      <td>1041</td>\n    </tr>\n    <tr>\n      <th>28408</th>\n      <td>2023-12-09 08:20:07.058451 UTC</td>\n      <td>0</td>\n      <td>96470600</td>\n      <td>11242419</td>\n      <td>16267333</td>\n      <td>38158950</td>\n      <td>22063286</td>\n      <td>4381079</td>\n      <td>1426024</td>\n      <td>16196283</td>\n      <td>817756</td>\n      <td>509563</td>\n      <td>0</td>\n      <td>0</td>\n      <td>0</td>\n      <td>0</td>\n    </tr>\n    <tr>\n      <th>28416</th>\n      <td>2023-12-09 08:20:22.586685 UTC</td>\n      <td>0</td>\n      <td>96453992</td>\n      <td>11240659</td>\n      <td>16260293</td>\n      <td>38147910</td>\n      <td>22063190</td>\n      <td>4380567</td>\n      <td>1425864</td>\n      <td>16192923</td>\n      <td>817564</td>\n      <td>509435</td>\n      <td>0</td>\n      <td>16</td>\n      <td>0</td>\n      <td>0</td>\n    </tr>\n    <tr>\n      <th>28417</th>\n      <td>2023-12-09 08:20:24.528651 UTC</td>\n      <td>0</td>\n      <td>96470600</td>\n      <td>11242419</td>\n      <td>16267333</td>\n      <td>38158950</td>\n      <td>22063286</td>\n      <td>4381079</td>\n      <td>1426024</td>\n      <td>16196283</td>\n      <td>817756</td>\n      <td>509563</td>\n      <td>0</td>\n      <td>0</td>\n      <td>0</td>\n      <td>0</td>\n    </tr>\n    <tr>\n      <th>31382</th>\n      <td>2023-12-09 11:08:41.333547 UTC</td>\n      <td>0</td>\n      <td>96470600</td>\n      <td>11242419</td>\n      <td>16267333</td>\n      <td>38158950</td>\n      <td>22063286</td>\n      <td>4381079</td>\n      <td>1426024</td>\n      <td>16196283</td>\n      <td>817756</td>\n      <td>509563</td>\n      <td>163320</td>\n      <td>0</td>\n      <td>0</td>\n      <td>121896</td>\n    </tr>\n    <tr>\n      <th>31383</th>\n      <td>2023-12-09 11:09:41.161832 UTC</td>\n      <td>0</td>\n      <td>96470600</td>\n      <td>11242419</td>\n      <td>16267333</td>\n      <td>38158950</td>\n      <td>22063286</td>\n      <td>4381079</td>\n      <td>1426024</td>\n      <td>16196283</td>\n      <td>817756</td>\n      <td>509563</td>\n      <td>0</td>\n      <td>0</td>\n      <td>0</td>\n      <td>0</td>\n    </tr>\n    <tr>\n      <th>31389</th>\n      <td>2023-12-09 11:09:52.808508 UTC</td>\n      <td>0</td>\n      <td>96489654</td>\n      <td>11244840</td>\n      <td>16270886</td>\n      <td>38167546</td>\n      <td>22066318</td>\n      <td>4381832</td>\n      <td>1426432</td>\n      <td>16199973</td>\n      <td>817835</td>\n      <td>509700</td>\n      <td>0</td>\n      <td>28</td>\n      <td>0</td>\n      <td>0</td>\n    </tr>\n    <tr>\n      <th>31390</th>\n      <td>2023-12-09 11:09:54.747828 UTC</td>\n      <td>0</td>\n      <td>96470600</td>\n      <td>11242419</td>\n      <td>16267333</td>\n      <td>38158950</td>\n      <td>22063286</td>\n      <td>4381079</td>\n      <td>1426024</td>\n      <td>16196283</td>\n      <td>817756</td>\n      <td>509563</td>\n      <td>0</td>\n      <td>0</td>\n      <td>0</td>\n      <td>0</td>\n    </tr>\n    <tr>\n      <th>32606</th>\n      <td>2023-12-09 11:56:22.806047 UTC</td>\n      <td>0</td>\n      <td>96470600</td>\n      <td>11242419</td>\n      <td>16267333</td>\n      <td>38158950</td>\n      <td>22063286</td>\n      <td>4381079</td>\n      <td>1426024</td>\n      <td>16196283</td>\n      <td>817756</td>\n      <td>509563</td>\n      <td>54043</td>\n      <td>0</td>\n      <td>0</td>\n      <td>51145</td>\n    </tr>\n    <tr>\n      <th>32607</th>\n      <td>2023-12-09 11:57:22.589044 UTC</td>\n      <td>0</td>\n      <td>96470600</td>\n      <td>11242419</td>\n      <td>16267333</td>\n      <td>38158950</td>\n      <td>22063286</td>\n      <td>4381079</td>\n      <td>1426024</td>\n      <td>16196283</td>\n      <td>817756</td>\n      <td>509563</td>\n      <td>0</td>\n      <td>0</td>\n      <td>0</td>\n      <td>0</td>\n    </tr>\n    <tr>\n      <th>34175</th>\n      <td>2023-12-09 12:48:04.623323 UTC</td>\n      <td>0</td>\n      <td>96470600</td>\n      <td>11242419</td>\n      <td>16267333</td>\n      <td>38158950</td>\n      <td>22063286</td>\n      <td>4381079</td>\n      <td>1426024</td>\n      <td>16196283</td>\n      <td>817756</td>\n      <td>509563</td>\n      <td>112212</td>\n      <td>0</td>\n      <td>0</td>\n      <td>80894</td>\n    </tr>\n    <tr>\n      <th>34176</th>\n      <td>2023-12-09 12:49:04.086731 UTC</td>\n      <td>0</td>\n      <td>96470600</td>\n      <td>11242419</td>\n      <td>16267333</td>\n      <td>38158950</td>\n      <td>22063286</td>\n      <td>4381079</td>\n      <td>1426024</td>\n      <td>16196283</td>\n      <td>817756</td>\n      <td>509563</td>\n      <td>0</td>\n      <td>0</td>\n      <td>0</td>\n      <td>0</td>\n    </tr>\n    <tr>\n      <th>34551</th>\n      <td>2023-12-09 13:01:11.708723 UTC</td>\n      <td>0</td>\n      <td>96470600</td>\n      <td>11242419</td>\n      <td>16267333</td>\n      <td>38158950</td>\n      <td>22063286</td>\n      <td>4381079</td>\n      <td>1426024</td>\n      <td>16196283</td>\n      <td>817756</td>\n      <td>509563</td>\n      <td>67888</td>\n      <td>0</td>\n      <td>0</td>\n      <td>2266</td>\n    </tr>\n    <tr>\n      <th>34552</th>\n      <td>2023-12-09 13:02:12.192870 UTC</td>\n      <td>0</td>\n      <td>96470600</td>\n      <td>11242419</td>\n      <td>16267333</td>\n      <td>38158950</td>\n      <td>22063286</td>\n      <td>4381079</td>\n      <td>1426024</td>\n      <td>16196283</td>\n      <td>817756</td>\n      <td>509563</td>\n      <td>0</td>\n      <td>0</td>\n      <td>0</td>\n      <td>0</td>\n    </tr>\n    <tr>\n      <th>34671</th>\n      <td>2023-12-09 13:06:03.094072 UTC</td>\n      <td>0</td>\n      <td>96470600</td>\n      <td>11242419</td>\n      <td>16267333</td>\n      <td>38158950</td>\n      <td>22063286</td>\n      <td>4381079</td>\n      <td>1426024</td>\n      <td>16196283</td>\n      <td>817756</td>\n      <td>509563</td>\n      <td>0</td>\n      <td>90</td>\n      <td>0</td>\n      <td>0</td>\n    </tr>\n    <tr>\n      <th>34672</th>\n      <td>2023-12-09 13:06:05.038587 UTC</td>\n      <td>0</td>\n      <td>96470600</td>\n      <td>11242419</td>\n      <td>16267333</td>\n      <td>38158950</td>\n      <td>22063286</td>\n      <td>4381079</td>\n      <td>1426024</td>\n      <td>16196283</td>\n      <td>817756</td>\n      <td>509563</td>\n      <td>0</td>\n      <td>0</td>\n      <td>0</td>\n      <td>0</td>\n    </tr>\n  </tbody>\n</table>\n</div>"
     },
     "execution_count": 13,
     "metadata": {},
     "output_type": "execute_result"
    }
   ],
   "source": [
    "# deviation = 10000\n",
    "# mask = (df['iv'] < df['iv'].shift()-deviation) | (df['iv'] < df['iv'].shift()-deviation)\n",
    "# zero_rows = df.loc[(df['imem_ecc'] == 0) & (df['dmem_ecc'] == 0) & (df['regfile'] == 0) & (df['regfile'] == 0)]\n",
    "# df[mask | mask.shift(-1)]\n",
    "\n",
    "# Initialize a variable to store the rows that meet the conditions\n",
    "result_rows = []\n",
    "prev_row = None\n",
    "\n",
    "# Iterate over rows\n",
    "for index, row in df.iterrows():\n",
    "    # Check if the subset of columns is zero in the current row\n",
    "    if row['imem_ecc'] == 0 and row['dmem_ecc'] == 0 and row['regfile'] == 0 and row['iv'] == 0:\n",
    "        # Check if the corresponding columns in the previous row are non-zero\n",
    "        if prev_row is not None: \n",
    "            if prev_row['imem_ecc'] != 0 or prev_row['dmem_ecc'] != 0 or prev_row['regfile'] != 0 or prev_row['iv'] != 0:\n",
    "                # Print the previous non-zero row and the current row\n",
    "                result_rows.append(prev_row)\n",
    "                result_rows.append(row)\n",
    "\n",
    "    # Update the previous row\n",
    "    prev_row = row\n",
    "\n",
    "pf_results = pd.DataFrame(result_rows)\n",
    "pf_results"
   ]
  },
  {
   "cell_type": "markdown",
   "metadata": {},
   "source": [
    "# Multiple explanations for differences between IMEM and instruction validator detections\n",
    "## Significant less detections by IV compared to IMEM\n",
    "\n",
    "## Significant more detections by IV compared to IMEM"
   ]
  }
 ],
 "metadata": {
  "kernelspec": {
   "display_name": "Python 3",
   "language": "python",
   "name": "python3"
  },
  "language_info": {
   "codemirror_mode": {
    "name": "ipython",
    "version": 3
   },
   "file_extension": ".py",
   "mimetype": "text/x-python",
   "name": "python",
   "nbconvert_exporter": "python",
   "pygments_lexer": "ipython3",
   "version": "3.10.12"
  }
 },
 "nbformat": 4,
 "nbformat_minor": 2
}
